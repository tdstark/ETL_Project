{
 "cells": [
  {
   "cell_type": "markdown",
   "metadata": {},
   "source": [
    "## Import dependencies"
   ]
  },
  {
   "cell_type": "code",
   "execution_count": 1,
   "metadata": {},
   "outputs": [],
   "source": [
    "import json\n",
    "from sqlalchemy import create_engine\n",
    "import pandas as pd\n",
    "import pymysql\n",
    "pymysql.install_as_MySQLdb()"
   ]
  },
  {
   "cell_type": "markdown",
   "metadata": {},
   "source": [
    "## Import configuration variables"
   ]
  },
  {
   "cell_type": "code",
   "execution_count": 2,
   "metadata": {},
   "outputs": [],
   "source": [
    "# import sys\n",
    "# sys.path.append('../../../../')\n",
    "from sfconfig import sf_username, sf_password, sf_security_token\n",
    "from sfconfig import remote_db_endpoint, remote_db_port\n",
    "from sfconfig import remote_db_name, remote_db_user, remote_db_pwd"
   ]
  },
  {
   "cell_type": "markdown",
   "metadata": {},
   "source": [
    "## Set up `simple_salesforce`\n",
    "\n",
    "Pass in the username, password, and security token here. The security token contains information about your org."
   ]
  },
  {
   "cell_type": "code",
   "execution_count": 3,
   "metadata": {},
   "outputs": [],
   "source": [
    "from simple_salesforce import Salesforce\n",
    "sf = Salesforce(username=sf_username, password=sf_password, security_token=sf_security_token)"
   ]
  },
  {
   "cell_type": "markdown",
   "metadata": {},
   "source": [
    "## Connect to your MySQL database"
   ]
  },
  {
   "cell_type": "code",
   "execution_count": 4,
   "metadata": {},
   "outputs": [],
   "source": [
    "engine = create_engine(f\"mysql://{remote_db_user}:{remote_db_pwd}@{remote_db_endpoint}:{remote_db_port}/{remote_db_name}\")\n",
    "conn = engine.connect()"
   ]
  },
  {
   "cell_type": "markdown",
   "metadata": {},
   "source": [
    "## Query Data"
   ]
  },
  {
   "cell_type": "code",
   "execution_count": 51,
   "metadata": {},
   "outputs": [],
   "source": [
    "course_data = pd.read_sql(\"SELECT * FROM course\", conn)\n",
    "class_data = pd.read_sql(\"SELECT * FROM class\", conn)\n",
    "staff_data = pd.read_sql(\"SELECT * FROM staff\", conn)\n",
    "staffassignment_data = pd.read_sql(\"SELECT * FROM staffassignment\", conn)\n",
    "classparticipant_data = pd.read_sql(\"SELECT * FROM classparticipant\", conn)\n",
    "student_data = pd.read_sql(\"SELECT * FROM student\", conn)"
   ]
  },
  {
   "cell_type": "code",
   "execution_count": 6,
   "metadata": {},
   "outputs": [
    {
     "data": {
      "text/html": [
       "<div>\n",
       "<style scoped>\n",
       "    .dataframe tbody tr th:only-of-type {\n",
       "        vertical-align: middle;\n",
       "    }\n",
       "\n",
       "    .dataframe tbody tr th {\n",
       "        vertical-align: top;\n",
       "    }\n",
       "\n",
       "    .dataframe thead th {\n",
       "        text-align: right;\n",
       "    }\n",
       "</style>\n",
       "<table border=\"1\" class=\"dataframe\">\n",
       "  <thead>\n",
       "    <tr style=\"text-align: right;\">\n",
       "      <th></th>\n",
       "      <th>ID_Staff</th>\n",
       "      <th>EmployeeID</th>\n",
       "      <th>LastName</th>\n",
       "      <th>FirstName</th>\n",
       "      <th>MiddleName</th>\n",
       "      <th>BirthDate</th>\n",
       "    </tr>\n",
       "  </thead>\n",
       "  <tbody>\n",
       "    <tr>\n",
       "      <th>0</th>\n",
       "      <td>1</td>\n",
       "      <td>000184220</td>\n",
       "      <td>Wimberly</td>\n",
       "      <td>Sam</td>\n",
       "      <td>Nico</td>\n",
       "      <td>1995-07-05</td>\n",
       "    </tr>\n",
       "    <tr>\n",
       "      <th>1</th>\n",
       "      <td>2</td>\n",
       "      <td>000130109</td>\n",
       "      <td>Sanford</td>\n",
       "      <td>Gemini</td>\n",
       "      <td>Blair</td>\n",
       "      <td>1992-04-22</td>\n",
       "    </tr>\n",
       "    <tr>\n",
       "      <th>2</th>\n",
       "      <td>3</td>\n",
       "      <td>000160655</td>\n",
       "      <td>Williams</td>\n",
       "      <td>Dartanion</td>\n",
       "      <td>De Angelo</td>\n",
       "      <td>1993-05-21</td>\n",
       "    </tr>\n",
       "    <tr>\n",
       "      <th>3</th>\n",
       "      <td>4</td>\n",
       "      <td>000159108</td>\n",
       "      <td>Popelka</td>\n",
       "      <td>Sarah</td>\n",
       "      <td>Nisan</td>\n",
       "      <td>1994-06-07</td>\n",
       "    </tr>\n",
       "  </tbody>\n",
       "</table>\n",
       "</div>"
      ],
      "text/plain": [
       "   ID_Staff EmployeeID  LastName  FirstName MiddleName   BirthDate\n",
       "0         1  000184220  Wimberly        Sam       Nico  1995-07-05\n",
       "1         2  000130109   Sanford     Gemini      Blair  1992-04-22\n",
       "2         3  000160655  Williams  Dartanion  De Angelo  1993-05-21\n",
       "3         4  000159108   Popelka      Sarah      Nisan  1994-06-07"
      ]
     },
     "execution_count": 6,
     "metadata": {},
     "output_type": "execute_result"
    }
   ],
   "source": [
    "staff_data.head()"
   ]
  },
  {
   "cell_type": "markdown",
   "metadata": {},
   "source": [
    "## Salesforce Population\n",
    "\n",
    "Course Data and Class Data"
   ]
  },
  {
   "cell_type": "code",
   "execution_count": 14,
   "metadata": {},
   "outputs": [],
   "source": [
    "for index, row in course_data.iterrows():\n",
    "\n",
    "    record = {\"ID_Course__c\": row[\"ID_Course\"],\n",
    "              \"CourseCode__c\": row[\"CourseCode\"],\n",
    "              \"CreditHours__c\": row[\"CreditHours\"],\n",
    "              \"CourseName__c\": row[\"CourseName\"],\n",
    "              \"BootCampCourse__c\": row[\"BootCampCourse\"]}\n",
    "    \n",
    "    try:\n",
    "        sf.Course__c.create(record)\n",
    "    except Exception as e:\n",
    "        print(e)"
   ]
  },
  {
   "cell_type": "code",
   "execution_count": 54,
   "metadata": {},
   "outputs": [],
   "source": [
    "sf_course_records = sf.query(\"SELECT id, name, CourseName__c, ID_Course__c FROM Course__c\")\n",
    "coursedict = {}\n",
    "for x in sf_course_records['records']:\n",
    "    coursedict[x['ID_Course__c']] = {'name': x['CourseName__c'], 'id':x['Id']}"
   ]
  },
  {
   "cell_type": "code",
   "execution_count": 48,
   "metadata": {},
   "outputs": [
    {
     "name": "stdout",
     "output_type": "stream",
     "text": [
      "   ID_Class  ID_Course               Section   StartDate     EndDate\n",
      "0         1          1  GWU-ARL-DATA-PT-09-0  2020-03-16  2020-03-14\n",
      "1         2          1       GWDC201805DATA3  2018-05-15  2018-11-08\n",
      "2         3          2       GWARL201905WEB3  2019-05-14  2019-11-07\n",
      "3         4          3      GWARL201905UIUX3  2019-05-14  2019-11-07\n"
     ]
    }
   ],
   "source": [
    "class_data['StartDate'] = class_data['StartDate'].apply(lambda x: x.strftime('%Y-%m-%d'))\n",
    "class_data['EndDate'] = class_data['EndDate'].apply(lambda x: x.strftime('%Y-%m-%d')) \n",
    "class_data"
   ]
  },
  {
   "cell_type": "code",
   "execution_count": 55,
   "metadata": {},
   "outputs": [],
   "source": [
    "for index, row in class_data.iterrows():\n",
    "\n",
    "    record = {\"ID_Class__c\": row[\"ID_Class\"],\n",
    "              \"ID_Course__c\": classdict[row[\"ID_Course\"]]['id'],\n",
    "              \"Section__c\": row[\"Section\"],\n",
    "              \"StartDate__c\": row[\"StartDate\"],\n",
    "              \"EndDate__c\": row[\"EndDate\"]}\n",
    "    \n",
    "    try:\n",
    "        sf.class__c.create(record)\n",
    "    except Exception as e:\n",
    "        print(e)"
   ]
  },
  {
   "cell_type": "markdown",
   "metadata": {},
   "source": [
    "Staff Data and Staff Assignment Data"
   ]
  },
  {
   "cell_type": "code",
   "execution_count": 7,
   "metadata": {},
   "outputs": [
    {
     "name": "stdout",
     "output_type": "stream",
     "text": [
      "   ID_Staff EmployeeID  LastName  FirstName MiddleName   BirthDate\n",
      "0         1  000184220  Wimberly        Sam       Nico  1995-07-05\n",
      "1         2  000130109   Sanford     Gemini      Blair  1992-04-22\n",
      "2         3  000160655  Williams  Dartanion  De Angelo  1993-05-21\n",
      "3         4  000159108   Popelka      Sarah      Nisan  1994-06-07\n"
     ]
    }
   ],
   "source": [
    "staff_data['BirthDate'] = staff_data['BirthDate'].apply(lambda x: x.strftime('%Y-%m-%d'))\n",
    "print(staff_data)"
   ]
  },
  {
   "cell_type": "code",
   "execution_count": 9,
   "metadata": {},
   "outputs": [],
   "source": [
    "for index, row in staff_data.iterrows():\n",
    "\n",
    "    record = {\"ID_Staff__c\": row[\"ID_Staff\"],\n",
    "              \"EmployeeID__c\": row[\"EmployeeID\"],\n",
    "              \"LastName__c\": row[\"LastName\"],\n",
    "              \"FirstName__c\": row[\"FirstName\"],\n",
    "              \"MiddleName__c\": row[\"MiddleName\"],\n",
    "              \"BirthDate__c\": row[\"BirthDate\"]}\n",
    "    \n",
    "    try:\n",
    "        sf.staff__c.create(record)\n",
    "    except Exception as e:\n",
    "        print(e)"
   ]
  },
  {
   "cell_type": "code",
   "execution_count": 12,
   "metadata": {},
   "outputs": [],
   "source": [
    "sf_staff_records = sf.query(\"SELECT id, ID_Staff__c, FirstName__c, LastName__c FROM staff__c\")\n",
    "staffdict = {}\n",
    "for x in sf_staff_records['records']:\n",
    "    staffdict[x['ID_Staff__c']] = {'FirstName': x['FirstName__c'], 'LastName': x['LastName__c'],'id':x['Id']}"
   ]
  },
  {
   "cell_type": "code",
   "execution_count": 24,
   "metadata": {},
   "outputs": [],
   "source": [
    "sf_class_records = sf.query(\"SELECT id, ID_Class__c, Section__c FROM class__c\")\n",
    "classdict = {}\n",
    "for x in sf_class_records['records']:\n",
    "    classdict[x['ID_Class__c']] = {'Section': x['Section__c'], 'id':x['Id']}"
   ]
  },
  {
   "cell_type": "code",
   "execution_count": 25,
   "metadata": {},
   "outputs": [
    {
     "name": "stdout",
     "output_type": "stream",
     "text": [
      "{1.0: {'FirstName': 'Sam', 'LastName': 'Wimberly', 'id': 'a063h000003cR6XAAU'}, 2.0: {'FirstName': 'Gemini', 'LastName': 'Sanford', 'id': 'a063h000003cR6cAAE'}, 3.0: {'FirstName': 'Dartanion', 'LastName': 'Williams', 'id': 'a063h000003cR6hAAE'}, 4.0: {'FirstName': 'Sarah', 'LastName': 'Popelka', 'id': 'a063h000003cR6mAAE'}}\n",
      "\n",
      "{2.0: {'Section': 'GWDC201805DATA3', 'id': 'a083h0000016LjOAAU'}, 1.0: {'Section': 'GWU-ARL-DATA-PT-09-0', 'id': 'a083h0000016LjJAAU'}, 3.0: {'Section': 'GWARL201905WEB3', 'id': 'a083h0000016LjTAAU'}, 4.0: {'Section': 'GWARL201905UIUX3', 'id': 'a083h0000016LjAAAU'}}\n"
     ]
    }
   ],
   "source": [
    "print(staffdict)\n",
    "print()\n",
    "print(classdict)"
   ]
  },
  {
   "cell_type": "code",
   "execution_count": 22,
   "metadata": {},
   "outputs": [
    {
     "data": {
      "text/html": [
       "<div>\n",
       "<style scoped>\n",
       "    .dataframe tbody tr th:only-of-type {\n",
       "        vertical-align: middle;\n",
       "    }\n",
       "\n",
       "    .dataframe tbody tr th {\n",
       "        vertical-align: top;\n",
       "    }\n",
       "\n",
       "    .dataframe thead th {\n",
       "        text-align: right;\n",
       "    }\n",
       "</style>\n",
       "<table border=\"1\" class=\"dataframe\">\n",
       "  <thead>\n",
       "    <tr style=\"text-align: right;\">\n",
       "      <th></th>\n",
       "      <th>ID_StaffAssignment</th>\n",
       "      <th>ID_Staff</th>\n",
       "      <th>ID_Class</th>\n",
       "      <th>Role</th>\n",
       "      <th>StartDate</th>\n",
       "      <th>EndDate</th>\n",
       "    </tr>\n",
       "  </thead>\n",
       "  <tbody>\n",
       "    <tr>\n",
       "      <th>0</th>\n",
       "      <td>1</td>\n",
       "      <td>1</td>\n",
       "      <td>1</td>\n",
       "      <td>Teacher Assistant</td>\n",
       "      <td>2020-03-16</td>\n",
       "      <td>None</td>\n",
       "    </tr>\n",
       "    <tr>\n",
       "      <th>1</th>\n",
       "      <td>2</td>\n",
       "      <td>4</td>\n",
       "      <td>1</td>\n",
       "      <td>Teacher Assistant</td>\n",
       "      <td>2020-03-16</td>\n",
       "      <td>None</td>\n",
       "    </tr>\n",
       "    <tr>\n",
       "      <th>2</th>\n",
       "      <td>3</td>\n",
       "      <td>3</td>\n",
       "      <td>1</td>\n",
       "      <td>Instructor</td>\n",
       "      <td>2020-03-16</td>\n",
       "      <td>None</td>\n",
       "    </tr>\n",
       "  </tbody>\n",
       "</table>\n",
       "</div>"
      ],
      "text/plain": [
       "   ID_StaffAssignment  ID_Staff  ID_Class               Role   StartDate  \\\n",
       "0                   1         1         1  Teacher Assistant  2020-03-16   \n",
       "1                   2         4         1  Teacher Assistant  2020-03-16   \n",
       "2                   3         3         1         Instructor  2020-03-16   \n",
       "\n",
       "  EndDate  \n",
       "0    None  \n",
       "1    None  \n",
       "2    None  "
      ]
     },
     "execution_count": 22,
     "metadata": {},
     "output_type": "execute_result"
    }
   ],
   "source": [
    "staffassignment_data['StartDate'] = staffassignment_data['StartDate'].apply(lambda x: x.strftime('%Y-%m-%d'))\n",
    "staffassignment_data"
   ]
  },
  {
   "cell_type": "code",
   "execution_count": 26,
   "metadata": {},
   "outputs": [],
   "source": [
    "for index, row in staffassignment_data.iterrows():\n",
    "\n",
    "    record = {\"ID_StaffAssignment__c\": row[\"ID_StaffAssignment\"],\n",
    "              \"ID_Staff__c\": staffdict[row[\"ID_Staff\"]]['id'],\n",
    "              \"ID_Class__c\": classdict[row[\"ID_Class\"]]['id'],\n",
    "              \"Role__c\": row[\"Role\"],\n",
    "              \"StartDate__c\": row[\"StartDate\"],\n",
    "              \"EndDate__c\": row[\"EndDate\"],}\n",
    "    \n",
    "    try:\n",
    "        sf.Staff_Assignment__c.create(record)\n",
    "    except Exception as e:\n",
    "        print(e)"
   ]
  },
  {
   "cell_type": "markdown",
   "metadata": {},
   "source": [
    "Student Data and Class Participant Data\n"
   ]
  },
  {
   "cell_type": "code",
   "execution_count": 32,
   "metadata": {},
   "outputs": [],
   "source": [
    "for index, row in student_data.iterrows():\n",
    "\n",
    "    record = {\"ID_Student__c\": row[\"ID_Student\"],\n",
    "              \"StudentID__c\": row[\"StudentID\"],\n",
    "              \"LastName__c\": row[\"LastName\"],\n",
    "              \"FirstName__c\": row[\"FirstName\"],\n",
    "              \"MiddleName__c\": row[\"MiddleName\"],\n",
    "              \"BirthDate__c\": row[\"BirthDate\"],\n",
    "              \"Gender__c\": row[\"Gender\"]}\n",
    "    \n",
    "    try:\n",
    "        sf.student__c.create(record)\n",
    "    except Exception as e:\n",
    "        print(e)"
   ]
  },
  {
   "cell_type": "code",
   "execution_count": 52,
   "metadata": {},
   "outputs": [],
   "source": [
    "sf_student_records = sf.query(\"SELECT id, ID_Student__c, FirstName__c, LastName__c FROM student__c\")\n",
    "studentdict = {}\n",
    "for x in sf_student_records['records']:\n",
    "    studentdict[x['ID_Student__c']] = {'FirstName': x['FirstName__c'], 'LastName': x['LastName__c'],'id':x['Id']}"
   ]
  },
  {
   "cell_type": "code",
   "execution_count": 53,
   "metadata": {},
   "outputs": [],
   "source": [
    "sf_class_records = sf.query(\"SELECT id, ID_Class__c, Section__c FROM class__c\")\n",
    "classdict = {}\n",
    "for x in sf_class_records['records']:\n",
    "    classdict[x['ID_Class__c']] = {'Section': x['Section__c'], 'id':x['Id']}"
   ]
  },
  {
   "cell_type": "code",
   "execution_count": 54,
   "metadata": {},
   "outputs": [
    {
     "data": {
      "text/html": [
       "<div>\n",
       "<style scoped>\n",
       "    .dataframe tbody tr th:only-of-type {\n",
       "        vertical-align: middle;\n",
       "    }\n",
       "\n",
       "    .dataframe tbody tr th {\n",
       "        vertical-align: top;\n",
       "    }\n",
       "\n",
       "    .dataframe thead th {\n",
       "        text-align: right;\n",
       "    }\n",
       "</style>\n",
       "<table border=\"1\" class=\"dataframe\">\n",
       "  <thead>\n",
       "    <tr style=\"text-align: right;\">\n",
       "      <th></th>\n",
       "      <th>ID_ClassParticipant</th>\n",
       "      <th>ID_Student</th>\n",
       "      <th>ID_Class</th>\n",
       "      <th>StartDate</th>\n",
       "      <th>EndDate</th>\n",
       "    </tr>\n",
       "  </thead>\n",
       "  <tbody>\n",
       "    <tr>\n",
       "      <th>0</th>\n",
       "      <td>1</td>\n",
       "      <td>33</td>\n",
       "      <td>1</td>\n",
       "      <td>2020-03-16</td>\n",
       "      <td>None</td>\n",
       "    </tr>\n",
       "    <tr>\n",
       "      <th>1</th>\n",
       "      <td>2</td>\n",
       "      <td>34</td>\n",
       "      <td>1</td>\n",
       "      <td>2020-03-16</td>\n",
       "      <td>None</td>\n",
       "    </tr>\n",
       "    <tr>\n",
       "      <th>2</th>\n",
       "      <td>3</td>\n",
       "      <td>35</td>\n",
       "      <td>1</td>\n",
       "      <td>2020-03-16</td>\n",
       "      <td>None</td>\n",
       "    </tr>\n",
       "    <tr>\n",
       "      <th>3</th>\n",
       "      <td>4</td>\n",
       "      <td>62</td>\n",
       "      <td>1</td>\n",
       "      <td>2020-03-16</td>\n",
       "      <td>None</td>\n",
       "    </tr>\n",
       "    <tr>\n",
       "      <th>4</th>\n",
       "      <td>5</td>\n",
       "      <td>36</td>\n",
       "      <td>1</td>\n",
       "      <td>2020-03-16</td>\n",
       "      <td>None</td>\n",
       "    </tr>\n",
       "    <tr>\n",
       "      <th>5</th>\n",
       "      <td>6</td>\n",
       "      <td>37</td>\n",
       "      <td>1</td>\n",
       "      <td>2020-03-16</td>\n",
       "      <td>None</td>\n",
       "    </tr>\n",
       "    <tr>\n",
       "      <th>6</th>\n",
       "      <td>7</td>\n",
       "      <td>38</td>\n",
       "      <td>1</td>\n",
       "      <td>2020-03-16</td>\n",
       "      <td>None</td>\n",
       "    </tr>\n",
       "    <tr>\n",
       "      <th>7</th>\n",
       "      <td>8</td>\n",
       "      <td>39</td>\n",
       "      <td>1</td>\n",
       "      <td>2020-03-16</td>\n",
       "      <td>None</td>\n",
       "    </tr>\n",
       "    <tr>\n",
       "      <th>8</th>\n",
       "      <td>9</td>\n",
       "      <td>40</td>\n",
       "      <td>1</td>\n",
       "      <td>2020-03-16</td>\n",
       "      <td>None</td>\n",
       "    </tr>\n",
       "    <tr>\n",
       "      <th>9</th>\n",
       "      <td>10</td>\n",
       "      <td>41</td>\n",
       "      <td>1</td>\n",
       "      <td>2020-03-16</td>\n",
       "      <td>None</td>\n",
       "    </tr>\n",
       "    <tr>\n",
       "      <th>10</th>\n",
       "      <td>11</td>\n",
       "      <td>42</td>\n",
       "      <td>1</td>\n",
       "      <td>2020-03-16</td>\n",
       "      <td>None</td>\n",
       "    </tr>\n",
       "    <tr>\n",
       "      <th>11</th>\n",
       "      <td>12</td>\n",
       "      <td>43</td>\n",
       "      <td>1</td>\n",
       "      <td>2020-03-16</td>\n",
       "      <td>None</td>\n",
       "    </tr>\n",
       "    <tr>\n",
       "      <th>12</th>\n",
       "      <td>13</td>\n",
       "      <td>46</td>\n",
       "      <td>1</td>\n",
       "      <td>2020-03-16</td>\n",
       "      <td>None</td>\n",
       "    </tr>\n",
       "    <tr>\n",
       "      <th>13</th>\n",
       "      <td>14</td>\n",
       "      <td>47</td>\n",
       "      <td>1</td>\n",
       "      <td>2020-03-16</td>\n",
       "      <td>None</td>\n",
       "    </tr>\n",
       "    <tr>\n",
       "      <th>14</th>\n",
       "      <td>15</td>\n",
       "      <td>48</td>\n",
       "      <td>1</td>\n",
       "      <td>2020-03-16</td>\n",
       "      <td>None</td>\n",
       "    </tr>\n",
       "    <tr>\n",
       "      <th>15</th>\n",
       "      <td>16</td>\n",
       "      <td>49</td>\n",
       "      <td>1</td>\n",
       "      <td>2020-03-16</td>\n",
       "      <td>None</td>\n",
       "    </tr>\n",
       "    <tr>\n",
       "      <th>16</th>\n",
       "      <td>17</td>\n",
       "      <td>50</td>\n",
       "      <td>1</td>\n",
       "      <td>2020-03-16</td>\n",
       "      <td>None</td>\n",
       "    </tr>\n",
       "    <tr>\n",
       "      <th>17</th>\n",
       "      <td>18</td>\n",
       "      <td>51</td>\n",
       "      <td>1</td>\n",
       "      <td>2020-03-16</td>\n",
       "      <td>None</td>\n",
       "    </tr>\n",
       "    <tr>\n",
       "      <th>18</th>\n",
       "      <td>20</td>\n",
       "      <td>53</td>\n",
       "      <td>1</td>\n",
       "      <td>2020-03-16</td>\n",
       "      <td>None</td>\n",
       "    </tr>\n",
       "    <tr>\n",
       "      <th>19</th>\n",
       "      <td>21</td>\n",
       "      <td>54</td>\n",
       "      <td>1</td>\n",
       "      <td>2020-03-16</td>\n",
       "      <td>None</td>\n",
       "    </tr>\n",
       "    <tr>\n",
       "      <th>20</th>\n",
       "      <td>22</td>\n",
       "      <td>55</td>\n",
       "      <td>1</td>\n",
       "      <td>2020-03-16</td>\n",
       "      <td>None</td>\n",
       "    </tr>\n",
       "    <tr>\n",
       "      <th>21</th>\n",
       "      <td>23</td>\n",
       "      <td>56</td>\n",
       "      <td>1</td>\n",
       "      <td>2020-03-16</td>\n",
       "      <td>None</td>\n",
       "    </tr>\n",
       "    <tr>\n",
       "      <th>22</th>\n",
       "      <td>24</td>\n",
       "      <td>57</td>\n",
       "      <td>1</td>\n",
       "      <td>2020-03-16</td>\n",
       "      <td>None</td>\n",
       "    </tr>\n",
       "    <tr>\n",
       "      <th>23</th>\n",
       "      <td>25</td>\n",
       "      <td>58</td>\n",
       "      <td>1</td>\n",
       "      <td>2020-03-16</td>\n",
       "      <td>None</td>\n",
       "    </tr>\n",
       "    <tr>\n",
       "      <th>24</th>\n",
       "      <td>26</td>\n",
       "      <td>59</td>\n",
       "      <td>1</td>\n",
       "      <td>2020-03-16</td>\n",
       "      <td>None</td>\n",
       "    </tr>\n",
       "    <tr>\n",
       "      <th>25</th>\n",
       "      <td>27</td>\n",
       "      <td>60</td>\n",
       "      <td>1</td>\n",
       "      <td>2020-03-16</td>\n",
       "      <td>None</td>\n",
       "    </tr>\n",
       "    <tr>\n",
       "      <th>26</th>\n",
       "      <td>28</td>\n",
       "      <td>61</td>\n",
       "      <td>1</td>\n",
       "      <td>2020-03-16</td>\n",
       "      <td>None</td>\n",
       "    </tr>\n",
       "    <tr>\n",
       "      <th>27</th>\n",
       "      <td>29</td>\n",
       "      <td>44</td>\n",
       "      <td>1</td>\n",
       "      <td>2020-03-16</td>\n",
       "      <td>None</td>\n",
       "    </tr>\n",
       "  </tbody>\n",
       "</table>\n",
       "</div>"
      ],
      "text/plain": [
       "    ID_ClassParticipant  ID_Student  ID_Class   StartDate EndDate\n",
       "0                     1          33         1  2020-03-16    None\n",
       "1                     2          34         1  2020-03-16    None\n",
       "2                     3          35         1  2020-03-16    None\n",
       "3                     4          62         1  2020-03-16    None\n",
       "4                     5          36         1  2020-03-16    None\n",
       "5                     6          37         1  2020-03-16    None\n",
       "6                     7          38         1  2020-03-16    None\n",
       "7                     8          39         1  2020-03-16    None\n",
       "8                     9          40         1  2020-03-16    None\n",
       "9                    10          41         1  2020-03-16    None\n",
       "10                   11          42         1  2020-03-16    None\n",
       "11                   12          43         1  2020-03-16    None\n",
       "12                   13          46         1  2020-03-16    None\n",
       "13                   14          47         1  2020-03-16    None\n",
       "14                   15          48         1  2020-03-16    None\n",
       "15                   16          49         1  2020-03-16    None\n",
       "16                   17          50         1  2020-03-16    None\n",
       "17                   18          51         1  2020-03-16    None\n",
       "18                   20          53         1  2020-03-16    None\n",
       "19                   21          54         1  2020-03-16    None\n",
       "20                   22          55         1  2020-03-16    None\n",
       "21                   23          56         1  2020-03-16    None\n",
       "22                   24          57         1  2020-03-16    None\n",
       "23                   25          58         1  2020-03-16    None\n",
       "24                   26          59         1  2020-03-16    None\n",
       "25                   27          60         1  2020-03-16    None\n",
       "26                   28          61         1  2020-03-16    None\n",
       "27                   29          44         1  2020-03-16    None"
      ]
     },
     "execution_count": 54,
     "metadata": {},
     "output_type": "execute_result"
    }
   ],
   "source": [
    "classparticipant_data['StartDate'] = classparticipant_data['StartDate'].apply(lambda x: x.strftime('%Y-%m-%d'))\n",
    "classparticipant_data"
   ]
  },
  {
   "cell_type": "code",
   "execution_count": 43,
   "metadata": {},
   "outputs": [
    {
     "name": "stdout",
     "output_type": "stream",
     "text": [
      "{2.0: {'Section': 'GWDC201805DATA3', 'id': 'a083h0000016LjOAAU'}, 1.0: {'Section': 'GWU-ARL-DATA-PT-09-0', 'id': 'a083h0000016LjJAAU'}, 3.0: {'Section': 'GWARL201905WEB3', 'id': 'a083h0000016LjTAAU'}, 4.0: {'Section': 'GWARL201905UIUX3', 'id': 'a083h0000016LjAAAU'}}\n",
      "\n",
      "{43.0: {'FirstName': 'Sarah', 'LastName': 'Schulte', 'id': 'a053h000006Nt2IAAS'}, 59.0: {'FirstName': 'Robert', 'LastName': 'Oppan', 'id': 'a053h000006Nt3aAAC'}, 60.0: {'FirstName': 'Trevor', 'LastName': 'Doucet', 'id': 'a053h000006Nt3fAAC'}, 57.0: {'FirstName': 'Michael', 'LastName': 'Clarke', 'id': 'a053h000006Nt3QAAS'}, 38.0: {'FirstName': 'Pariya', 'LastName': 'Poocharoen', 'id': 'a053h000006Nt1tAAC'}, 49.0: {'FirstName': 'Tom', 'LastName': 'Stark', 'id': 'a053h000006Nt2mAAC'}, 53.0: {'FirstName': 'Cole', 'LastName': 'Fingerut', 'id': 'a053h000006Nt36AAC'}, 62.0: {'FirstName': 'Kevin', 'LastName': 'Williamson', 'id': 'a053h000006Nt3pAAC'}, 51.0: {'FirstName': 'Chris', 'LastName': 'Mikus', 'id': 'a053h000006Nt2wAAC'}, 61.0: {'FirstName': 'Yasir', 'LastName': 'Omar', 'id': 'a053h000006Nt3kAAC'}, 44.0: {'FirstName': 'Undraa', 'LastName': 'Damdinsuren', 'id': 'a053h000006Nt2NAAS'}, 58.0: {'FirstName': 'Patrick', 'LastName': 'Huynh', 'id': 'a053h000006Nt3VAAS'}, 39.0: {'FirstName': 'Sriharitha', 'LastName': 'Mantrala', 'id': 'a053h000006Nt1yAAC'}, 35.0: {'FirstName': 'Jessica', 'LastName': 'Murillo', 'id': 'a053h000006Nt1eAAC'}, 37.0: {'FirstName': 'Katherine', 'LastName': 'Hoffer', 'id': 'a053h000006Nt1oAAC'}, 54.0: {'FirstName': 'David', 'LastName': 'Hoff', 'id': 'a053h000006Nt3BAAS'}, 34.0: {'FirstName': 'Ilana', 'LastName': 'Multak', 'id': 'a053h000006Nt1ZAAS'}, 42.0: {'FirstName': 'Jawaher', 'LastName': 'Abdulrahim', 'id': 'a053h000006Nt2DAAS'}, 52.0: {'FirstName': 'Christopher', 'LastName': 'Hanafin', 'id': 'a053h000006Nt31AAC'}, 47.0: {'FirstName': 'Pius', 'LastName': 'Odhiambo', 'id': 'a053h000006Nt2cAAC'}, 55.0: {'FirstName': 'Dino', 'LastName': 'Molina', 'id': 'a053h000006Nt3GAAS'}, 46.0: {'FirstName': 'Joisel', 'LastName': 'Martinez', 'id': 'a053h000006Nt2XAAS'}, 40.0: {'FirstName': 'Carly', 'LastName': 'Kelly', 'id': 'a053h000006Nt23AAC'}, 33.0: {'FirstName': 'Heather', 'LastName': 'Moore', 'id': 'a053h000006Nt1UAAS'}, 45.0: {'FirstName': 'James', 'LastName': 'Smith', 'id': 'a053h000006Nt2SAAS'}, 48.0: {'FirstName': 'Todd', 'LastName': 'Karr', 'id': 'a053h000006Nt2hAAC'}, 56.0: {'FirstName': 'John', 'LastName': 'Vega', 'id': 'a053h000006Nt3LAAS'}, 36.0: {'FirstName': 'Kandra', 'LastName': 'Romanowski', 'id': 'a053h000006Nt1jAAC'}, 50.0: {'FirstName': 'Adit', 'LastName': 'Mahmood', 'id': 'a053h000006Nt2rAAC'}, 41.0: {'FirstName': 'Clementine', 'LastName': 'Sraha', 'id': 'a053h000006Nt28AAC'}}\n"
     ]
    }
   ],
   "source": [
    "print(classdict)\n",
    "print()\n",
    "print(studentdict)"
   ]
  },
  {
   "cell_type": "code",
   "execution_count": 56,
   "metadata": {},
   "outputs": [],
   "source": [
    "for index, row in classparticipant_data.iterrows():\n",
    "\n",
    "    record = {\"ID_ClassParticipant__c\": row[\"ID_ClassParticipant\"],\n",
    "              \"ID_Student__c\": studentdict[row[\"ID_Student\"]]['id'],\n",
    "              \"ID_Class__c\": classdict[row[\"ID_Class\"]]['id'],\n",
    "              \"StartDate__c\": row[\"StartDate\"],\n",
    "              \"EndDate__c\": row[\"EndDate\"],}\n",
    "    \n",
    "    try:\n",
    "        sf.Class_Participant__c.create(record)\n",
    "    except Exception as e:\n",
    "        print(e)"
   ]
  },
  {
   "cell_type": "code",
   "execution_count": null,
   "metadata": {},
   "outputs": [],
   "source": []
  }
 ],
 "metadata": {
  "kernelspec": {
   "display_name": "Python 3",
   "language": "python",
   "name": "python3"
  },
  "language_info": {
   "codemirror_mode": {
    "name": "ipython",
    "version": 3
   },
   "file_extension": ".py",
   "mimetype": "text/x-python",
   "name": "python",
   "nbconvert_exporter": "python",
   "pygments_lexer": "ipython3",
   "version": "3.7.6"
  }
 },
 "nbformat": 4,
 "nbformat_minor": 4
}
